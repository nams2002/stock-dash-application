{
  "nbformat": 4,
  "nbformat_minor": 0,
  "metadata": {
    "colab": {
      "provenance": [],
      "authorship_tag": "ABX9TyM+1i7uweg4udBxopSX3EC9",
      "include_colab_link": true
    },
    "kernelspec": {
      "name": "python3",
      "display_name": "Python 3"
    },
    "language_info": {
      "name": "python"
    }
  },
  "cells": [
    {
      "cell_type": "markdown",
      "metadata": {
        "id": "view-in-github",
        "colab_type": "text"
      },
      "source": [
        "<a href=\"https://colab.research.google.com/github/nams2002/stock-dash-application/blob/main/stock_dash_app.ipynb\" target=\"_parent\"><img src=\"https://colab.research.google.com/assets/colab-badge.svg\" alt=\"Open In Colab\"/></a>"
      ]
    },
    {
      "cell_type": "markdown",
      "source": [
        "# New Section"
      ],
      "metadata": {
        "id": "7U5ycJ8-jWER"
      }
    },
    {
      "cell_type": "code",
      "execution_count": 4,
      "metadata": {
        "id": "C1KuuIm-lQ8P",
        "colab": {
          "base_uri": "https://localhost:8080/",
          "height": 810
        },
        "outputId": "17673ab8-47c0-40cc-b797-9b2eb95818f9"
      },
      "outputs": [
        {
          "output_type": "stream",
          "name": "stderr",
          "text": [
            "<ipython-input-4-f911f63241cc>:6: UserWarning: \n",
            "The dash_core_components package is deprecated. Please replace\n",
            "`import dash_core_components as dcc` with `from dash import dcc`\n",
            "  import dash_core_components as dcc\n",
            "<ipython-input-4-f911f63241cc>:7: UserWarning: \n",
            "The dash_html_components package is deprecated. Please replace\n",
            "`import dash_html_components as html` with `from dash import html`\n",
            "  import dash_html_components as html\n"
          ]
        },
        {
          "output_type": "display_data",
          "data": {
            "text/plain": [
              "<IPython.core.display.Javascript object>"
            ],
            "application/javascript": [
              "(async (port, path, width, height, cache, element) => {\n",
              "    if (!google.colab.kernel.accessAllowed && !cache) {\n",
              "      return;\n",
              "    }\n",
              "    element.appendChild(document.createTextNode(''));\n",
              "    const url = await google.colab.kernel.proxyPort(port, {cache});\n",
              "    const iframe = document.createElement('iframe');\n",
              "    iframe.src = new URL(path, url).toString();\n",
              "    iframe.height = height;\n",
              "    iframe.width = width;\n",
              "    iframe.style.border = 0;\n",
              "    iframe.allow = [\n",
              "        'accelerometer',\n",
              "        'autoplay',\n",
              "        'camera',\n",
              "        'clipboard-read',\n",
              "        'clipboard-write',\n",
              "        'gyroscope',\n",
              "        'magnetometer',\n",
              "        'microphone',\n",
              "        'serial',\n",
              "        'usb',\n",
              "        'xr-spatial-tracking',\n",
              "    ].join('; ');\n",
              "    element.appendChild(iframe);\n",
              "  })(8050, \"/\", \"100%\", 650, false, window.element)"
            ]
          },
          "metadata": {}
        }
      ],
      "source": [
        "import yfinance as yf\n",
        "import pandas as pd\n",
        "import plotly.graph_objs as go\n",
        "import plotly.express as px\n",
        "import dash\n",
        "import dash_core_components as dcc\n",
        "import dash_html_components as html\n",
        "from dash.dependencies import Input, Output, State\n",
        "\n",
        "app = dash.Dash(__name__)\n",
        "server = app.server\n",
        "\n",
        "app.layout = html.Div([\n",
        "    html.Div([\n",
        "        html.P(\"Welcome to the Stock Dash App!\", className=\"start\"),\n",
        "        html.Div([\n",
        "            dcc.Input(id=\"stock-code-input\", value=\"\", type=\"text\", placeholder=\"Enter stock code\"),\n",
        "        ]),\n",
        "        html.Div([\n",
        "            dcc.DatePickerRange(id=\"date-range-picker\"),\n",
        "        ]),\n",
        "        html.Div([\n",
        "            html.Button(\"Get Stock Price\", id=\"stock-price-button\", n_clicks=0),\n",
        "            html.Button(\"Get Indicators\", id=\"indicators-button\", n_clicks=0),\n",
        "            dcc.Input(id=\"forecast-days-input\", value=30, type=\"number\", placeholder=\"Number of days to forecast\"),\n",
        "            html.Button(\"Forecast\", id=\"forecast-button\", n_clicks=0),\n",
        "        ]),\n",
        "    ], className=\"nav\"),\n",
        "    html.Div([\n",
        "        html.Div(id=\"description\", className=\"description_ticker\"),\n",
        "        html.Div(id=\"graphs-content\"),\n",
        "        html.Div(id=\"main-content\"),\n",
        "        html.Div(id=\"forecast-content\"),\n",
        "    ], className=\"content\"),\n",
        "])\n",
        "\n",
        "def get_stock_price_fig(df):\n",
        "    fig = px.line(df, x=\"Date\", y=[\"Open\", \"Close\"], title=\"Closing and Opening Price vs Date\")\n",
        "    return fig\n",
        "\n",
        "def get_more(df):\n",
        "    df['EWA_20'] = df['Close'].ewm(span=20, adjust=False).mean()\n",
        "    fig = px.scatter(df, x=\"Date\", y=\"EWA_20\", title=\"Exponential Moving Average vs Date\")\n",
        "    fig.update_traces(mode=\"lines\")\n",
        "    return fig\n",
        "\n",
        "@app.callback(\n",
        "    Output(\"graphs-content\", \"children\"),\n",
        "    Input(\"stock-price-button\", \"n_clicks\"),\n",
        "    State(\"stock-code-input\", \"value\"),\n",
        "    State(\"date-range-picker\", \"start_date\"),\n",
        "    State(\"date-range-picker\", \"end_date\"),\n",
        ")\n",
        "def update_stock_price(n_clicks, stock_code, start_date, end_date):\n",
        "    df = yf.download(stock_code, start=start_date, end=end_date)\n",
        "    fig = get_stock_price_fig(df)\n",
        "    return dcc.Graph(figure=fig)\n",
        "\n",
        "@app.callback(\n",
        "    Output(\"main-content\", \"children\"),\n",
        "    Input(\"indicators-button\", \"n_clicks\"),\n",
        "    State(\"stock-code-input\", \"value\"),\n",
        "    State(\"date-range-picker\", \"start_date\"),\n",
        "    State(\"date-range-picker\", \"end_date\"),\n",
        ")\n",
        "def update_indicators(n_clicks, stock_code, start_date, end_date):\n",
        "    df = yf.download(stock_code, start=start_date, end=end_date)\n",
        "    fig = get_more(df)\n",
        "    return dcc.Graph(figure=fig)\n",
        "\n",
        "@app.callback(\n",
        "    Output(\"forecast-content\", \"children\"),\n",
        "    Input(\"forecast-button\", \"n_clicks\"),\n",
        "    State(\"stock-code-input\", \"value\"),\n",
        "    State(\"date-range-picker\", \"start_date\"),\n",
        "    State(\"date-range-picker\", \"end_date\"),\n",
        "    State(\"forecast-days-input\", \"value\"),\n",
        ")\n",
        "def update_forecast(n_clicks, stock_code, start_date, end_date, forecast_days):\n",
        "    # implement your forecasting logic here\n",
        "    pass\n",
        "\n",
        "if __name__ == \"__main__\":\n",
        "    app.run_server()"
      ]
    },
    {
      "cell_type": "code",
      "source": [
        "import dash\n",
        "import dash_core_components as dcc\n",
        "import dash_html_components as html\n",
        "from dash.dependencies import Input, Output\n",
        "import plotly.express as px\n",
        "import yfinance as yf\n",
        "\n",
        "app = dash.Dash(__name__)\n",
        "\n",
        "app.layout = html.Div([\n",
        "    html.H1('Stock Price Chart'),\n",
        "    html.Div([\n",
        "        html.Label('Enter stock code:'),\n",
        "        dcc.Input(id='stock-code', value='AAPL', type='text')\n",
        "    ]),\n",
        "    html.Div([\n",
        "        html.Label('Select date range:'),\n",
        "        dcc.DatePickerRange(id='date-range')\n",
        "    ]),\n",
        "    html.Button('Get Stock Price', id='get-stock-price', n_clicks=0),\n",
        "    dcc.Graph(id='stock-price-chart')\n",
        "])\n",
        "\n",
        "@app.callback(\n",
        "    Output('stock-price-chart', 'figure'),\n",
        "    [Input('get-stock-price', 'n_clicks')],\n",
        "    [dash.dependencies.State('stock-code', 'value'),\n",
        "     dash.dependencies.State('date-range', 'start_date'),\n",
        "     dash.dependencies.State('date-range', 'end_date')]\n",
        ")\n",
        "def update_chart(n_clicks, stock_code, start_date, end_date):\n",
        "    df = yf.download(stock_code, start=start_date, end=end_date)\n",
        "    fig = px.line(df, x=df.index, y='Close')\n",
        "    return fig\n",
        "\n",
        "if __name__ == '__main__':\n",
        "    app.run_server(debug=True)"
      ],
      "metadata": {
        "colab": {
          "base_uri": "https://localhost:8080/",
          "height": 671
        },
        "id": "q5pBBJVAe3w7",
        "outputId": "52521534-787f-4175-9b52-acf61c14e50a"
      },
      "execution_count": 5,
      "outputs": [
        {
          "output_type": "display_data",
          "data": {
            "text/plain": [
              "<IPython.core.display.Javascript object>"
            ],
            "application/javascript": [
              "(async (port, path, width, height, cache, element) => {\n",
              "    if (!google.colab.kernel.accessAllowed && !cache) {\n",
              "      return;\n",
              "    }\n",
              "    element.appendChild(document.createTextNode(''));\n",
              "    const url = await google.colab.kernel.proxyPort(port, {cache});\n",
              "    const iframe = document.createElement('iframe');\n",
              "    iframe.src = new URL(path, url).toString();\n",
              "    iframe.height = height;\n",
              "    iframe.width = width;\n",
              "    iframe.style.border = 0;\n",
              "    iframe.allow = [\n",
              "        'accelerometer',\n",
              "        'autoplay',\n",
              "        'camera',\n",
              "        'clipboard-read',\n",
              "        'clipboard-write',\n",
              "        'gyroscope',\n",
              "        'magnetometer',\n",
              "        'microphone',\n",
              "        'serial',\n",
              "        'usb',\n",
              "        'xr-spatial-tracking',\n",
              "    ].join('; ');\n",
              "    element.appendChild(iframe);\n",
              "  })(8050, \"/\", \"100%\", 650, false, window.element)"
            ]
          },
          "metadata": {}
        }
      ]
    },
    {
      "cell_type": "code",
      "source": [
        "pip install dash"
      ],
      "metadata": {
        "id": "amcECIqdlTHQ",
        "colab": {
          "base_uri": "https://localhost:8080/"
        },
        "outputId": "86e55489-9e3b-4ca1-ad5b-ee034aee65b9"
      },
      "execution_count": 3,
      "outputs": [
        {
          "output_type": "stream",
          "name": "stdout",
          "text": [
            "Collecting dash\n",
            "  Downloading dash-2.17.1-py3-none-any.whl (7.5 MB)\n",
            "\u001b[2K     \u001b[90m━━━━━━━━━━━━━━━━━━━━━━━━━━━━━━━━━━━━━━━━\u001b[0m \u001b[32m7.5/7.5 MB\u001b[0m \u001b[31m45.4 MB/s\u001b[0m eta \u001b[36m0:00:00\u001b[0m\n",
            "\u001b[?25hRequirement already satisfied: Flask<3.1,>=1.0.4 in /usr/local/lib/python3.10/dist-packages (from dash) (2.2.5)\n",
            "Requirement already satisfied: Werkzeug<3.1 in /usr/local/lib/python3.10/dist-packages (from dash) (3.0.3)\n",
            "Requirement already satisfied: plotly>=5.0.0 in /usr/local/lib/python3.10/dist-packages (from dash) (5.15.0)\n",
            "Collecting dash-html-components==2.0.0 (from dash)\n",
            "  Downloading dash_html_components-2.0.0-py3-none-any.whl (4.1 kB)\n",
            "Collecting dash-core-components==2.0.0 (from dash)\n",
            "  Downloading dash_core_components-2.0.0-py3-none-any.whl (3.8 kB)\n",
            "Collecting dash-table==5.0.0 (from dash)\n",
            "  Downloading dash_table-5.0.0-py3-none-any.whl (3.9 kB)\n",
            "Requirement already satisfied: importlib-metadata in /usr/local/lib/python3.10/dist-packages (from dash) (8.0.0)\n",
            "Requirement already satisfied: typing-extensions>=4.1.1 in /usr/local/lib/python3.10/dist-packages (from dash) (4.12.2)\n",
            "Requirement already satisfied: requests in /usr/local/lib/python3.10/dist-packages (from dash) (2.31.0)\n",
            "Collecting retrying (from dash)\n",
            "  Downloading retrying-1.3.4-py3-none-any.whl (11 kB)\n",
            "Requirement already satisfied: nest-asyncio in /usr/local/lib/python3.10/dist-packages (from dash) (1.6.0)\n",
            "Requirement already satisfied: setuptools in /usr/local/lib/python3.10/dist-packages (from dash) (67.7.2)\n",
            "Requirement already satisfied: Jinja2>=3.0 in /usr/local/lib/python3.10/dist-packages (from Flask<3.1,>=1.0.4->dash) (3.1.4)\n",
            "Requirement already satisfied: itsdangerous>=2.0 in /usr/local/lib/python3.10/dist-packages (from Flask<3.1,>=1.0.4->dash) (2.2.0)\n",
            "Requirement already satisfied: click>=8.0 in /usr/local/lib/python3.10/dist-packages (from Flask<3.1,>=1.0.4->dash) (8.1.7)\n",
            "Requirement already satisfied: tenacity>=6.2.0 in /usr/local/lib/python3.10/dist-packages (from plotly>=5.0.0->dash) (8.4.2)\n",
            "Requirement already satisfied: packaging in /usr/local/lib/python3.10/dist-packages (from plotly>=5.0.0->dash) (24.1)\n",
            "Requirement already satisfied: MarkupSafe>=2.1.1 in /usr/local/lib/python3.10/dist-packages (from Werkzeug<3.1->dash) (2.1.5)\n",
            "Requirement already satisfied: zipp>=0.5 in /usr/local/lib/python3.10/dist-packages (from importlib-metadata->dash) (3.19.2)\n",
            "Requirement already satisfied: charset-normalizer<4,>=2 in /usr/local/lib/python3.10/dist-packages (from requests->dash) (3.3.2)\n",
            "Requirement already satisfied: idna<4,>=2.5 in /usr/local/lib/python3.10/dist-packages (from requests->dash) (3.7)\n",
            "Requirement already satisfied: urllib3<3,>=1.21.1 in /usr/local/lib/python3.10/dist-packages (from requests->dash) (2.0.7)\n",
            "Requirement already satisfied: certifi>=2017.4.17 in /usr/local/lib/python3.10/dist-packages (from requests->dash) (2024.6.2)\n",
            "Requirement already satisfied: six>=1.7.0 in /usr/local/lib/python3.10/dist-packages (from retrying->dash) (1.16.0)\n",
            "Installing collected packages: dash-table, dash-html-components, dash-core-components, retrying, dash\n",
            "Successfully installed dash-2.17.1 dash-core-components-2.0.0 dash-html-components-2.0.0 dash-table-5.0.0 retrying-1.3.4\n"
          ]
        }
      ]
    }
  ]
}